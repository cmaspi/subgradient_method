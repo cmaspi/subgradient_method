{
 "cells": [
  {
   "cell_type": "code",
   "execution_count": 109,
   "metadata": {},
   "outputs": [],
   "source": [
    "import numpy as np\n",
    "import matplotlib.pyplot as plt\n",
    "plt.style.use('dark_background')\n",
    "import typing as ty"
   ]
  },
  {
   "cell_type": "code",
   "execution_count": 110,
   "metadata": {},
   "outputs": [],
   "source": [
    "f1 = lambda x: -5*x-25\n",
    "f2 = lambda x: -3*x-10\n",
    "f3 = lambda x: -x+1\n",
    "f4 = lambda x: 2*x+4\n",
    "f5 = lambda x: 5*x-20\n",
    "\n",
    "\n",
    "def f(functions: ty.Tuple[ty.Callable], x:np.ndarray) -> np.ndarray:\n",
    "    max = functions[0](x)\n",
    "    for function in functions[1:]:\n",
    "        max = np.maximum(max, function(x))\n",
    "    return max\n",
    "\n",
    "def subgrad(functions: ty.Tuple[ty.Callable], x:float, dx: float = 1e-6) -> float:\n",
    "    val = np.max([f(x+dx) for f in functions]) - np.max([f(x) for f in functions])\n",
    "    return val/dx    "
   ]
  },
  {
   "cell_type": "code",
   "execution_count": 111,
   "metadata": {},
   "outputs": [
    {
     "data": {
      "image/png": "[encoded data removed]",
      "text/plain": [
       "<Figure size 432x288 with 1 Axes>"
      ]
     },
     "metadata": {},
     "output_type": "display_data"
    }
   ],
   "source": [
    "x = np.linspace(-10,10,10000)\n",
    "objective = f((f1,f2,f3,f4,f5),x)\n",
    "plt.plot(x, objective)\n",
    "plt.show()"
   ]
  },
  {
   "cell_type": "code",
   "execution_count": 112,
   "metadata": {},
   "outputs": [
    {
     "data": {
      "image/png": "[encoded data removed]",
      "text/plain": [
       "<Figure size 432x288 with 1 Axes>"
      ]
     },
     "metadata": {},
     "output_type": "display_data"
    }
   ],
   "source": [
    "x = np.linspace(-10,10,10000)\n",
    "subgradients = np.array([subgrad((f1,f2,f3,f4,f5),i) for i in x])\n",
    "plt.plot(x, subgradients)\n",
    "plt.show()"
   ]
  },
  {
   "cell_type": "markdown",
   "metadata": {},
   "source": [
    "# Constant step size"
   ]
  },
  {
   "cell_type": "code",
   "execution_count": 113,
   "metadata": {},
   "outputs": [
    {
     "name": "stdout",
     "output_type": "stream",
     "text": [
      "The minimum value obtained is 2.0000000011182237 which occurs at -0.9999999994408881\n"
     ]
    },
    {
     "data": {
      "image/png": "[encoded data removed]",
      "text/plain": [
       "<Figure size 432x288 with 1 Axes>"
      ]
     },
     "metadata": {},
     "output_type": "display_data"
    }
   ],
   "source": [
    "def train(initial_guess, epochs: int):\n",
    "    lr = (20/4)/np.sqrt(epochs)\n",
    "    x = initial_guess\n",
    "    vals = []\n",
    "    minval = 1e9\n",
    "    xcord = None\n",
    "    vals.append(f((f1,f2,f3,f4,f5),x))\n",
    "    if vals[-1]<minval:\n",
    "        minval = vals[-1]\n",
    "        xcord = x\n",
    "    for epoch in range(epochs):\n",
    "        x-=subgrad((f1,f2,f3,f4,f5),x) * lr\n",
    "        vals.append(f((f1,f2,f3,f4,f5),x))\n",
    "        if vals[-1]<minval:\n",
    "            minval = vals[-1]\n",
    "            xcord = x\n",
    "    return minval, xcord, vals    \n",
    "\n",
    "epochs = 10000\n",
    "minval, xcord, vals = train(-5,epochs)\n",
    "print(f'The minimum value obtained is {minval} which occurs at {xcord}')\n",
    "plt.plot(np.arange(epochs+1), vals)\n",
    "plt.show()"
   ]
  },
  {
   "cell_type": "markdown",
   "metadata": {},
   "source": [
    "# Constant step length"
   ]
  },
  {
   "cell_type": "code",
   "execution_count": 118,
   "metadata": {},
   "outputs": [
    {
     "data": {
      "text/plain": [
       "(2.0000000000035594, -0.9999999999982203)"
      ]
     },
     "execution_count": 118,
     "metadata": {},
     "output_type": "execute_result"
    }
   ],
   "source": [
    "def train(initial_guess, epochs: int):\n",
    "    step_length = 1e-4\n",
    "    x = initial_guess\n",
    "    vals = []\n",
    "    minval = 1e9\n",
    "    xcord = None\n",
    "    vals.append(f((f1,f2,f3,f4,f5),x))\n",
    "    if vals[-1]<minval:\n",
    "        minval = vals[-1]\n",
    "        xcord = x\n",
    "    for epoch in range(epochs):\n",
    "        x-=np.sign(subgrad((f1,f2,f3,f4,f5),x)) * step_length\n",
    "        vals.append(f((f1,f2,f3,f4,f5),x))\n",
    "        if vals[-1]<minval:\n",
    "            minval = vals[-1]\n",
    "            xcord = x\n",
    "    return minval, xcord    \n",
    "\n",
    "train(-5,100000)"
   ]
  },
  {
   "cell_type": "code",
   "execution_count": 115,
   "metadata": {},
   "outputs": [
    {
     "data": {
      "text/plain": [
       "array([-1,  1])"
      ]
     },
     "execution_count": 115,
     "metadata": {},
     "output_type": "execute_result"
    }
   ],
   "source": []
  },
  {
   "cell_type": "code",
   "execution_count": null,
   "metadata": {},
   "outputs": [],
   "source": []
  }
 ],
 "metadata": {
  "interpreter": {
   "hash": "916dbcbb3f70747c44a77c7bcd40155683ae19c65e1c03b4aa3499c5328201f1"
  },
  "kernelspec": {
   "display_name": "Python 3.10.4 64-bit",
   "language": "python",
   "name": "python3"
  },
  "language_info": {
   "codemirror_mode": {
    "name": "ipython",
    "version": 3
   },
   "file_extension": ".py",
   "mimetype": "text/x-python",
   "name": "python",
   "nbconvert_exporter": "python",
   "pygments_lexer": "ipython3",
   "version": "3.10.4"
  },
  "orig_nbformat": 4
 },
 "nbformat": 4,
 "nbformat_minor": 2
}
