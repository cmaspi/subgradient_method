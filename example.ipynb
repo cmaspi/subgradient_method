{
 "cells": [
  {
   "cell_type": "code",
   "execution_count": 8,
   "metadata": {},
   "outputs": [
    {
     "ename": "ModuleNotFoundError",
     "evalue": "No module named 'data'",
     "output_type": "error",
     "traceback": [
      "\u001b[0;31m---------------------------------------------------------------------------\u001b[0m",
      "\u001b[0;31mModuleNotFoundError\u001b[0m                       Traceback (most recent call last)",
      "\u001b[1;32m/home/cmaspi/study/subgradient_method/example.ipynb Cell 1'\u001b[0m in \u001b[0;36m<cell line: 6>\u001b[0;34m()\u001b[0m\n\u001b[1;32m      <a href='vscode-notebook-cell:/home/cmaspi/study/subgradient_method/example.ipynb#ch0000000?line=3'>4</a>\u001b[0m \u001b[39mfrom\u001b[39;00m \u001b[39mtqdm\u001b[39;00m\u001b[39m.\u001b[39;00m\u001b[39mautonotebook\u001b[39;00m \u001b[39mimport\u001b[39;00m tqdm \u001b[39mas\u001b[39;00m notebook_tqdm\n\u001b[1;32m      <a href='vscode-notebook-cell:/home/cmaspi/study/subgradient_method/example.ipynb#ch0000000?line=4'>5</a>\u001b[0m \u001b[39m# importing the data\u001b[39;00m\n\u001b[0;32m----> <a href='vscode-notebook-cell:/home/cmaspi/study/subgradient_method/example.ipynb#ch0000000?line=5'>6</a>\u001b[0m \u001b[39mfrom\u001b[39;00m \u001b[39mdata\u001b[39;00m \u001b[39mimport\u001b[39;00m \u001b[39m*\u001b[39m\n\u001b[1;32m      <a href='vscode-notebook-cell:/home/cmaspi/study/subgradient_method/example.ipynb#ch0000000?line=6'>7</a>\u001b[0m X \u001b[39m=\u001b[39m X\u001b[39m.\u001b[39mT\n\u001b[1;32m      <a href='vscode-notebook-cell:/home/cmaspi/study/subgradient_method/example.ipynb#ch0000000?line=7'>8</a>\u001b[0m Y \u001b[39m=\u001b[39m Y\u001b[39m.\u001b[39mT\n",
      "\u001b[0;31mModuleNotFoundError\u001b[0m: No module named 'data'"
     ]
    }
   ],
   "source": [
    "import numpy as np\n",
    "import matplotlib.pyplot as plt\n",
    "plt.style.use('dark_background')\n",
    "from tqdm.autonotebook import tqdm as notebook_tqdm\n",
    "# importing the data\n",
    "from data import *\n",
    "X = X.T\n",
    "Y = Y.T\n",
    "x_train = np.array([*X[:40],*Y[:40]])\n",
    "x_test = np.array([*X[40:],*Y[40:]])\n",
    "y_train = np.ones(80)\n",
    "y_train[40:] = -np.ones(40)\n",
    "y_test = np.ones(20)\n",
    "y_test[10:] = -np.ones(10)\n"
   ]
  },
  {
   "cell_type": "code",
   "execution_count": 2,
   "metadata": {},
   "outputs": [],
   "source": [
    "def add_regularization(w, subgradient_w):\n",
    "    \"\"\"\n",
    "    The total loss :( 1/2 * ||w||^2 + Hingle_loss) has w term to be added after getting subgradient of 'w'\n",
    "    \n",
    "      total_w = regularization_term + subgradient_term\n",
    "    i.e total_w = w + C *  ∑ (-y*x)\n",
    "    \n",
    "    \"\"\"\n",
    "    return w + subgradient_w"
   ]
  },
  {
   "cell_type": "code",
   "execution_count": 3,
   "metadata": {},
   "outputs": [],
   "source": [
    "def subgradients(x, y, w, b, C):\n",
    "    \"\"\"\n",
    "    :x: inputs [[x1,x2], [x2,x2],...]\n",
    "    :y: labels [1, -1,...]\n",
    "    :w: initial w\n",
    "    :b: initial b\n",
    "    :C: tradeoff/ hyperparameter\n",
    "    \n",
    "    \"\"\"\n",
    "    subgrad_w = 0\n",
    "    subgrad_b = 0\n",
    "    \n",
    "    # sum over all subgradients of hinge loss for a given samples x,y\n",
    "    for x_i, y_i in zip(x,y):\n",
    "        f_xi = np.dot(w.T, x_i) + b\n",
    "\n",
    "        decision_value = y_i * f_xi\n",
    "\n",
    "        if decision_value < 1:\n",
    "            subgrad_w += - y_i*x_i\n",
    "            subgrad_b += -1 * y_i\n",
    "        else:\n",
    "            subgrad_w += 0\n",
    "            subgrad_b += 0\n",
    "    \n",
    "    # multiply by C after summation of all subgradients for a given samples of x,y\n",
    "    subgrad_w = C * subgrad_w\n",
    "    subgrad_b = C * subgrad_b\n",
    "    return (add_regularization(w, subgrad_w), subgrad_b)"
   ]
  },
  {
   "cell_type": "code",
   "execution_count": 4,
   "metadata": {},
   "outputs": [],
   "source": [
    "def stochastic_subgrad_descent(data, initial_values, B, C, T=1):\n",
    "    \"\"\"\n",
    "    :data: Pandas data frame\n",
    "    :initial_values: initialization for w and b\n",
    "    :B: sample size for random data selection\n",
    "    :C: hyperparameter, tradeoff between hard margin and hinge loss\n",
    "    :T: # of iterations\n",
    "    \n",
    "    \"\"\"\n",
    "    w, b = initial_values\n",
    "    for t in range(1, T+1):\n",
    "        \n",
    "        # randomly select B data points \n",
    "        training_sample = data.sample(B)\n",
    "        \n",
    "        # set learning rate\n",
    "        learning_rate = 1/t\n",
    "        \n",
    "        # prepare inputs in the form [[h1, w1], [h2, w2], ....]\n",
    "        x = training_sample[['height', 'weight']].values\n",
    "      \n",
    "        # prepare labels in the form [1, -1, 1, 1, - 1 ......]\n",
    "        y = training_sample['gender'].values\n",
    "      \n",
    "        sub_grads = subgradients(x,y, w, b, C)\n",
    "        \n",
    "        # update weights\n",
    "        w = w - learning_rate * sub_grads[0]\n",
    "        \n",
    "        # update bias\n",
    "        b = b - learning_rate * sub_grads[1]\n",
    "    return (w,b)"
   ]
  },
  {
   "cell_type": "code",
   "execution_count": 5,
   "metadata": {},
   "outputs": [],
   "source": [
    "initial_weights = np.array([-2, -3])\n",
    "initial_bias = 12\n",
    "\n",
    "initial_values = (initial_weights, initial_bias)"
   ]
  },
  {
   "cell_type": "code",
   "execution_count": 6,
   "metadata": {},
   "outputs": [
    {
     "ename": "NameError",
     "evalue": "name 'data' is not defined",
     "output_type": "error",
     "traceback": [
      "\u001b[0;31m---------------------------------------------------------------------------\u001b[0m",
      "\u001b[0;31mNameError\u001b[0m                                 Traceback (most recent call last)",
      "\u001b[1;32m/home/cmaspi/study/subgradient_method/example.ipynb Cell 6'\u001b[0m in \u001b[0;36m<cell line: 1>\u001b[0;34m()\u001b[0m\n\u001b[0;32m----> <a href='vscode-notebook-cell:/home/cmaspi/study/subgradient_method/example.ipynb#ch0000005?line=0'>1</a>\u001b[0m w,b \u001b[39m=\u001b[39m stochastic_subgrad_descent(data, initial_values, \u001b[39m20\u001b[39m, \u001b[39m1\u001b[39m, \u001b[39m1000\u001b[39m)\n",
      "\u001b[0;31mNameError\u001b[0m: name 'data' is not defined"
     ]
    }
   ],
   "source": [
    "w,b = stochastic_subgrad_descent(data, initial_values, 20, 1, 1000)"
   ]
  },
  {
   "cell_type": "code",
   "execution_count": null,
   "metadata": {},
   "outputs": [],
   "source": [
    "w,b"
   ]
  }
 ],
 "metadata": {
  "interpreter": {
   "hash": "916dbcbb3f70747c44a77c7bcd40155683ae19c65e1c03b4aa3499c5328201f1"
  },
  "kernelspec": {
   "display_name": "Python 3.10.4 64-bit",
   "language": "python",
   "name": "python3"
  },
  "language_info": {
   "codemirror_mode": {
    "name": "ipython",
    "version": 3
   },
   "file_extension": ".py",
   "mimetype": "text/x-python",
   "name": "python",
   "nbconvert_exporter": "python",
   "pygments_lexer": "ipython3",
   "version": "3.10.4"
  },
  "orig_nbformat": 4
 },
 "nbformat": 4,
 "nbformat_minor": 2
}
