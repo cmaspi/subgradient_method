{
 "cells": [
  {
   "cell_type": "code",
   "execution_count": 48,
   "metadata": {},
   "outputs": [],
   "source": [
    "import numpy as np\n",
    "import matplotlib.pyplot as plt\n",
    "plt.style.use('dark_background')\n",
    "from tqdm.autonotebook import tqdm as notebook_tqdm\n",
    "# importing the data\n",
    "from data import *\n",
    "X = X.T\n",
    "Y = Y.T\n",
    "x_train = np.array([*X[:40],*Y[:40]])\n",
    "x_test = np.array([*X[40:],*Y[40:]])\n",
    "y_train = np.ones(80)\n",
    "y_train[40:] = -np.ones(40)\n",
    "y_test = np.ones(20)\n",
    "y_test[10:] = -np.ones(10)\n"
   ]
  },
  {
   "cell_type": "markdown",
   "metadata": {},
   "source": [
    "TSNE"
   ]
  },
  {
   "cell_type": "code",
   "execution_count": 51,
   "metadata": {},
   "outputs": [
    {
     "data": {
      "image/png": "[encoded data removed]",
      "text/plain": [
       "<Figure size 432x288 with 1 Axes>"
      ]
     },
     "metadata": {},
     "output_type": "display_data"
    }
   ],
   "source": [
    "from sklearn.manifold import TSNE\n",
    "X_embedded = TSNE(n_components=2, learning_rate='auto', init='random',perplexity=30, n_iter = 1000).fit_transform(x_train)\n",
    "\n",
    "plt.scatter(X_embedded[:40,0],X_embedded[:40,1], label='X')\n",
    "plt.scatter(X_embedded[40:,0],X_embedded[40:,1], label='Y')\n",
    "plt.show()"
   ]
  },
  {
   "cell_type": "markdown",
   "metadata": {},
   "source": [
    "SVM"
   ]
  },
  {
   "cell_type": "code",
   "execution_count": 131,
   "metadata": {},
   "outputs": [
    {
     "data": {
      "text/plain": [
       "1.0"
      ]
     },
     "execution_count": 131,
     "metadata": {},
     "output_type": "execute_result"
    }
   ],
   "source": [
    "from sklearn import svm\n",
    "\n",
    "accuracy = lambda predicted, label: np.mean(predicted==label)\n",
    "\n",
    "clf = svm.SVC(kernel='linear')\n",
    "clf.fit(x_train, y_train)\n",
    "y_pred = clf.predict(x_test)\n",
    "accuracy(y_pred, y_test)"
   ]
  },
  {
   "cell_type": "code",
   "execution_count": 132,
   "metadata": {},
   "outputs": [
    {
     "name": "stdout",
     "output_type": "stream",
     "text": [
      "Slab thickness 117.73902605644058\n"
     ]
    }
   ],
   "source": [
    "print(f\"Slab thickness {2/np.linalg.norm(clf.coef_)}\")"
   ]
  },
  {
   "cell_type": "markdown",
   "metadata": {},
   "source": [
    "Now, our own svm trained using subgradient method"
   ]
  },
  {
   "cell_type": "code",
   "execution_count": 115,
   "metadata": {},
   "outputs": [],
   "source": [
    "accuracy = lambda predicted, label: torch.mean((predicted==label).float())\n",
    "\n",
    "import torch\n",
    "class svm:\n",
    "    @classmethod\n",
    "    def __init__(self, trade_off: int = 100):\n",
    "        self.w = None\n",
    "        self.b = None\n",
    "        self.trade_off = torch.tensor(trade_off)\n",
    "        self.learning_rate = None\n",
    "        self.best_w = None\n",
    "        self.best_b = None\n",
    "        self.best_loss = torch.tensor(1e9)\n",
    "        \n",
    "\n",
    "    @staticmethod\n",
    "    def shuffle(train: torch.tensor, labels: torch.tensor):\n",
    "        \"\"\"\n",
    "        Shuffles the data in a random permutation\n",
    "        \"\"\"\n",
    "        n = train.shape[0]\n",
    "        permutation = torch.randperm(n)\n",
    "        train = train[permutation]\n",
    "        labels = labels[permutation]\n",
    "        return train, labels\n",
    "    \n",
    "    @staticmethod\n",
    "    def iterate_minibatches(train : torch.tensor, labels: torch.tensor, batch_size : int):\n",
    "        \"\"\"\n",
    "        Gives minibatches\n",
    "        \"\"\"\n",
    "        for start_idx in range(0, train.shape[0] + 1 - batch_size, batch_size):\n",
    "            excerpt = slice(start_idx, start_idx+batch_size)\n",
    "            yield train[excerpt], labels[excerpt]\n",
    "\n",
    "    @classmethod\n",
    "    def cost(self, train, labels):\n",
    "        return self.w @ self.w + torch.mean(torch.maximum( torch.zeros(train.shape[0]) , torch.ones(train.shape[0]) - labels @ (train @ self.w + self.b)))\n",
    "\n",
    "    \n",
    "    @classmethod\n",
    "    def fit_util(self, train: torch.tensor, labels: torch.tensor):\n",
    "        \"\"\"\n",
    "        Utility function for fit\n",
    "        \"\"\"\n",
    "        batch_size = train.shape[0]\n",
    "        indices = (labels * (train @ self.w + self.b )) < 1.\n",
    "        grad_b = -torch.sum(labels[indices])\n",
    "        grad_w = 2 * self.w  - self.trade_off * (labels[indices] @ train[indices]) / batch_size\n",
    "        self.b -=  self.learning_rate * grad_b\n",
    "        self.w -= self.learning_rate * grad_w\n",
    "        if self.best_loss > self.cost(train, labels):\n",
    "            self.best_b = self.b\n",
    "            self.best_w = self.w\n",
    "            self.best_loss = self.cost(train, labels)\n",
    "        \n",
    "\n",
    "    @classmethod\n",
    "    def fit(self, train, labels, learning_rate : int = 0.1 ,epochs : int = 10, batch_size = 10):\n",
    "        \"\"\"\n",
    "        Trains the weights\n",
    "        \"\"\"\n",
    "        self.learning_rate = torch.tensor(learning_rate)\n",
    "        s = train.shape[1]\n",
    "        self.w = torch.normal(torch.zeros(s)).to(torch.float64)\n",
    "        self.b = torch.tensor(0.).to(torch.float64)\n",
    "        \n",
    "\n",
    "        for epoch in range(epochs):\n",
    "            self.learning_rate = 1/(epoch+1)\n",
    "            train, labels = self.shuffle(train, labels)\n",
    "            for x,y in self.iterate_minibatches(train, labels, batch_size):\n",
    "                self.fit_util(x, y)\n",
    "        self.b = self.best_b\n",
    "        self.w = self.best_w\n",
    "\n",
    "    @classmethod\n",
    "    def predict(self, test):\n",
    "        \"\"\"\n",
    "        returns the predicted label\n",
    "        \"\"\"\n",
    "        logits = test @ self.w + self.b\n",
    "        return torch.sign(logits)\n",
    "    \n",
    "    @classmethod\n",
    "    def accuracy(self, test : torch.tensor, ground_truth: torch.tensor):\n",
    "        \"\"\"\n",
    "        Returns the accuracy of the model given\n",
    "        test datapoints, and ground truth for those\n",
    "        datapoints\n",
    "        \"\"\"\n",
    "        predicted = self.predict(test)\n",
    "        return torch.mean((predicted == ground_truth).float())\n",
    "\n",
    "\n"
   ]
  },
  {
   "cell_type": "code",
   "execution_count": 128,
   "metadata": {},
   "outputs": [
    {
     "name": "stdout",
     "output_type": "stream",
     "text": [
      "tensor([ 1.3585,  1.1028,  1.0389,  1.1752,  1.0235,  1.1217,  1.3530,  1.3250,\n",
      "         1.1858,  1.2415,  1.2413,  1.1959,  1.1574,  1.0210,  1.1830,  1.1437,\n",
      "         1.2016,  1.2565,  1.0542,  1.2417,  1.1424,  1.0186,  1.1939,  1.1415,\n",
      "         1.0985,  1.1338,  1.1386,  1.0051,  1.0064,  1.3481,  1.1792,  1.0099,\n",
      "         1.1334,  1.0911,  1.2716,  1.0127,  1.0353,  1.0781,  1.0799,  1.1447,\n",
      "        -1.1008, -1.1575, -1.1918, -1.0187, -1.0026, -1.0442, -1.0885, -1.0391,\n",
      "        -1.1627, -1.1171, -0.9924, -1.0931, -1.0050, -1.0258, -1.1960, -1.2713,\n",
      "        -1.0220, -1.1494, -1.0048, -1.2286, -1.0629, -1.1604, -1.2143, -1.0536,\n",
      "        -1.2235, -1.0812, -1.2859, -1.0093, -1.1750, -1.0151, -1.1741, -1.1890,\n",
      "        -1.0922, -1.1615, -1.1111, -1.1099, -1.1037, -0.9969, -1.0413, -1.0591],\n",
      "       dtype=torch.float64)\n",
      "The accuracy of our model is 1.0\n"
     ]
    }
   ],
   "source": [
    "\n",
    "x_train_ = torch.tensor(x_train)\n",
    "x_test_ = torch.tensor(x_test)\n",
    "y_train_ = torch.tensor(y_train)\n",
    "y_test_ = torch.tensor(y_test)\n",
    "\n",
    "clf = svm(0.01)\n",
    "clf.fit(x_train_, y_train_, epochs = 500, batch_size = 4, learning_rate = 0.01)\n",
    "y_pred = clf.predict(x_test_)\n",
    "print(\"The accuracy of our model is {}\".format(clf.accuracy(x_test_, y_test_)))"
   ]
  },
  {
   "cell_type": "code",
   "execution_count": 129,
   "metadata": {},
   "outputs": [
    {
     "data": {
      "text/plain": [
       "tensor(117.1442, dtype=torch.float64)"
      ]
     },
     "execution_count": 129,
     "metadata": {},
     "output_type": "execute_result"
    }
   ],
   "source": [
    "torch.sqrt(4/(clf.w@clf.w))"
   ]
  },
  {
   "cell_type": "code",
   "execution_count": null,
   "metadata": {},
   "outputs": [],
   "source": []
  }
 ],
 "metadata": {
  "interpreter": {
   "hash": "916dbcbb3f70747c44a77c7bcd40155683ae19c65e1c03b4aa3499c5328201f1"
  },
  "kernelspec": {
   "display_name": "Python 3.10.4 64-bit",
   "language": "python",
   "name": "python3"
  },
  "language_info": {
   "codemirror_mode": {
    "name": "ipython",
    "version": 3
   },
   "file_extension": ".py",
   "mimetype": "text/x-python",
   "name": "python",
   "nbconvert_exporter": "python",
   "pygments_lexer": "ipython3",
   "version": "3.10.4"
  },
  "orig_nbformat": 4
 },
 "nbformat": 4,
 "nbformat_minor": 2
}
