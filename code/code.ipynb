{
 "cells": [
  {
   "cell_type": "code",
   "execution_count": 14,
   "metadata": {},
   "outputs": [],
   "source": [
    "import numpy as np\n",
    "import matplotlib.pyplot as plt\n",
    "plt.style.use('dark_background')\n",
    "from tqdm.autonotebook import tqdm as notebook_tqdm\n",
    "# importing the data\n",
    "from data import *\n",
    "X = X.T\n",
    "Y = Y.T\n",
    "x_train = np.array([*X[:40],*Y[:40]])\n",
    "x_test = np.array([*X[40:],*Y[40:]])\n",
    "y_train = np.ones(80)\n",
    "y_train[40:] = -np.ones(40)\n",
    "y_test = np.ones(20)\n",
    "y_test[10:] = -np.ones(10)\n"
   ]
  },
  {
   "cell_type": "markdown",
   "metadata": {},
   "source": [
    "TSNE"
   ]
  },
  {
   "cell_type": "code",
   "execution_count": 15,
   "metadata": {},
   "outputs": [
    {
     "data": {
      "image/png": "[encoded data removed]",
      "text/plain": [
       "<Figure size 432x288 with 1 Axes>"
      ]
     },
     "metadata": {},
     "output_type": "display_data"
    }
   ],
   "source": [
    "from sklearn.manifold import TSNE\n",
    "X_embedded = TSNE(n_components=2, learning_rate='auto', init='random',perplexity=30, n_iter = 1000).fit_transform(x_train)\n",
    "\n",
    "plt.scatter(X_embedded[:40,0],X_embedded[:40,1], label='X')\n",
    "plt.scatter(X_embedded[40:,0],X_embedded[40:,1], label='Y')\n",
    "plt.show()"
   ]
  },
  {
   "cell_type": "markdown",
   "metadata": {},
   "source": [
    "SVM"
   ]
  },
  {
   "cell_type": "code",
   "execution_count": 16,
   "metadata": {},
   "outputs": [
    {
     "data": {
      "text/plain": [
       "1.0"
      ]
     },
     "execution_count": 16,
     "metadata": {},
     "output_type": "execute_result"
    }
   ],
   "source": [
    "from sklearn import svm\n",
    "\n",
    "accuracy = lambda predicted, label: np.mean(predicted==label)\n",
    "\n",
    "clf = svm.SVC(kernel='linear')\n",
    "clf.fit(x_train, y_train)\n",
    "y_pred = clf.predict(x_test)\n",
    "accuracy(y_pred, y_test)"
   ]
  },
  {
   "cell_type": "code",
   "execution_count": 17,
   "metadata": {},
   "outputs": [
    {
     "name": "stdout",
     "output_type": "stream",
     "text": [
      "117.73902605644058\n"
     ]
    }
   ],
   "source": [
    "print(2/np.linalg.norm(clf.coef_))"
   ]
  },
  {
   "cell_type": "markdown",
   "metadata": {},
   "source": [
    "SVM gives an accuracy of 1"
   ]
  },
  {
   "cell_type": "markdown",
   "metadata": {},
   "source": [
    "Now, our own svm trained using subgradient method"
   ]
  },
  {
   "cell_type": "code",
   "execution_count": 18,
   "metadata": {},
   "outputs": [],
   "source": [
    "accuracy = lambda predicted, label: torch.mean((predicted==label).float())\n",
    "\n",
    "import torch\n",
    "class svm:\n",
    "    @classmethod\n",
    "    def __init__(self, trade_off: int = 10):\n",
    "        self.w = None\n",
    "        self.b = None\n",
    "        self.trade_off = torch.tensor(trade_off)\n",
    "        self.learning_rate = None\n",
    "        \n",
    "\n",
    "    @staticmethod\n",
    "    def shuffle(train: torch.tensor, labels: torch.tensor):\n",
    "        \"\"\"\n",
    "        Shuffles the data in a random permutation\n",
    "        \"\"\"\n",
    "        n = train.shape[0]\n",
    "        permutation = torch.randperm(n)\n",
    "        train = train[permutation]\n",
    "        labels = labels[permutation]\n",
    "        return train, labels\n",
    "    \n",
    "    @staticmethod\n",
    "    def iterate_minibatches(train : torch.tensor, labels: torch.tensor, batch_size : int):\n",
    "        \"\"\"\n",
    "        Gives minibatches\n",
    "        \"\"\"\n",
    "        for start_idx in range(0, train.shape[0] + 1 - batch_size, batch_size):\n",
    "            excerpt = slice(start_idx, start_idx+batch_size)\n",
    "            yield train[excerpt], labels[excerpt]\n",
    "\n",
    "    \n",
    "    @classmethod\n",
    "    def fit_util(self, train: torch.tensor, labels: torch.tensor):\n",
    "        \"\"\"\n",
    "        Utility function for fit\n",
    "        \"\"\"\n",
    "        \n",
    "        indices = (labels * (train @ self.w + self.b )) < 1.\n",
    "        # n = torch.sqrt(4/(self.w@self.w))\n",
    "        grad_b = -torch.sum(labels[indices])\n",
    "        grad_w = 2 * self.w  - self.trade_off * (labels[indices] @ train[indices])\n",
    "        self.b -=  self.learning_rate * grad_b\n",
    "        self.w -= self.learning_rate * grad_w\n",
    "        if n>100:\n",
    "            print((labels[indices] @ train[indices]))\n",
    "            print(torch.sqrt(4/(self.w@self.w)))\n",
    "\n",
    "    @classmethod\n",
    "    def fit(self, train, labels, learning_rate : int = 0.1 ,epochs : int = 10, batch_size = 10):\n",
    "        \"\"\"\n",
    "        Trains the weights\n",
    "        \"\"\"\n",
    "        self.learning_rate = torch.tensor(learning_rate)\n",
    "        s = train.shape[1]\n",
    "        self.w = torch.normal(torch.zeros(s)).to(torch.float64)\n",
    "        self.b = torch.tensor(0.).to(torch.float64)\n",
    "        \n",
    "\n",
    "        for epoch in range(epochs):\n",
    "            self.learning_rate = 1/(epoch+1)\n",
    "            train, labels = self.shuffle(train, labels)\n",
    "            for x,y in self.iterate_minibatches(train, labels, batch_size):\n",
    "                self.fit_util(x, y)\n",
    "\n",
    "    @classmethod\n",
    "    def predict(self, test):\n",
    "        \"\"\"\n",
    "        returns the predicted label\n",
    "        \"\"\"\n",
    "        logits = test @ self.w + self.b\n",
    "        return torch.sign(logits)\n",
    "\n"
   ]
  },
  {
   "cell_type": "code",
   "execution_count": 19,
   "metadata": {},
   "outputs": [
    {
     "name": "stdout",
     "output_type": "stream",
     "text": [
      "tensor([ 0.9572,  1.1508,  1.0628,  0.9374,  1.3040,  1.0761,  0.9887,  1.1928,\n",
      "         1.0451,  1.1355, -0.9625, -0.8612, -1.0348, -1.0082, -1.0248, -1.1893,\n",
      "        -1.0225, -1.0941, -0.9355, -1.1935], dtype=torch.float64)\n",
      "The accuracy of our model is 1.0\n"
     ]
    }
   ],
   "source": [
    "\n",
    "x_train_ = torch.tensor(x_train)\n",
    "x_test_ = torch.tensor(x_test)\n",
    "y_train_ = torch.tensor(y_train)\n",
    "y_test_ = torch.tensor(y_test)\n",
    "\n",
    "clf = svm(0.0003)\n",
    "clf.fit(x_train_, y_train_, epochs = 20, batch_size = 4, learning_rate = 0.1)\n",
    "print(x_test_ @ clf.w + clf.b)\n",
    "y_pred = clf.predict(x_test_)\n",
    "print(\"The accuracy of our model is {}\".format(accuracy(y_pred, y_test_)))"
   ]
  },
  {
   "cell_type": "code",
   "execution_count": 20,
   "metadata": {},
   "outputs": [
    {
     "data": {
      "text/plain": [
       "tensor(128.4273, dtype=torch.float64)"
      ]
     },
     "execution_count": 20,
     "metadata": {},
     "output_type": "execute_result"
    }
   ],
   "source": [
    "torch.sqrt(4/(clf.w@clf.w))"
   ]
  },
  {
   "cell_type": "markdown",
   "metadata": {},
   "source": [
    "The problem with above implementation is that a steady step size can often cause increase in value of the objective function"
   ]
  },
  {
   "cell_type": "markdown",
   "metadata": {},
   "source": [
    "Possible solutions\n",
    "\n",
    "1. "
   ]
  },
  {
   "cell_type": "code",
   "execution_count": 48,
   "metadata": {},
   "outputs": [],
   "source": [
    "accuracy = lambda predicted, label: torch.mean((predicted==label).float())\n",
    "\n",
    "import torch\n",
    "class svm:\n",
    "    @classmethod\n",
    "    def __init__(self, trade_off: int = 10):\n",
    "        self.w = None\n",
    "        self.b = None\n",
    "        self.trade_off = torch.tensor(trade_off)\n",
    "        self.learning_rate = None\n",
    "        self.epsilon = 0.001\n",
    "        self.best_w = None\n",
    "        self.best_b = None\n",
    "        self.opt_cost = 1e9\n",
    "        \n",
    "\n",
    "    @staticmethod\n",
    "    def shuffle(train: torch.tensor, labels: torch.tensor):\n",
    "        \"\"\"\n",
    "        Shuffles the data in a random permutation\n",
    "        \"\"\"\n",
    "        n = train.shape[0]\n",
    "        permutation = torch.randperm(n)\n",
    "        train = train[permutation]\n",
    "        labels = labels[permutation]\n",
    "        return train, labels\n",
    "    \n",
    "    @staticmethod\n",
    "    def iterate_minibatches(train : torch.tensor, labels: torch.tensor, batch_size : int):\n",
    "        \"\"\"\n",
    "        Gives minibatches\n",
    "        \"\"\"\n",
    "        for start_idx in range(0, train.shape[0] + 1 - batch_size, batch_size):\n",
    "            excerpt = slice(start_idx, start_idx+batch_size)\n",
    "            yield train[excerpt], labels[excerpt]\n",
    "\n",
    "    @classmethod\n",
    "    def cost(self, train, labels):\n",
    "        return self.w @ self.w + np.maximum( 0 , 1 - labels @ (train @ self.w + self.b))\n",
    "\n",
    "    \n",
    "    @classmethod\n",
    "    def fit_util(self, train: torch.tensor, labels: torch.tensor):\n",
    "        \"\"\"\n",
    "        Utility function for fit\n",
    "        \"\"\"\n",
    "        indices = (labels * (train @ self.w + self.b )) < 1.\n",
    "        grad_b = -torch.sum(labels[indices])\n",
    "        grad_w = 2 * self.w  - self.trade_off * (labels[indices] @ train[indices])\n",
    "        self.b -=  self.learning_rate * grad_b\n",
    "        self.w -= self.learning_rate * grad_w / self.trade_off\n",
    "        if self.opt_cost > self.cost(train, labels):\n",
    "            self.best_b = self.b\n",
    "            self.best_w = self.w\n",
    "            self.opt_cost = self.cost(train, labels)\n",
    "    @classmethod\n",
    "    def fit(self, train, labels, learning_rate : int = 0.1 ,epochs : int = 10, batch_size = 10):\n",
    "        \"\"\"\n",
    "        Trains the weights\n",
    "        \"\"\"\n",
    "        self.learning_rate = torch.tensor(learning_rate)\n",
    "        s = train.shape[1]\n",
    "        self.w = torch.normal(torch.zeros(s)).to(torch.float64)\n",
    "        self.b = torch.tensor(0.).to(torch.float64)\n",
    "        \n",
    "        for epoch in range(epochs):\n",
    "            train, labels = self.shuffle(train, labels)\n",
    "            for x,y in self.iterate_minibatches(train, labels, batch_size):\n",
    "                self.fit_util(x, y)\n",
    "        self.w = self.best_w\n",
    "        self.b = self.best_b\n",
    "                \n",
    "\n",
    "    @classmethod\n",
    "    def predict(self, test):\n",
    "        \"\"\"\n",
    "        returns the predicted label\n",
    "        \"\"\"\n",
    "        logits = test @ self.w + self.b\n",
    "        return torch.sign(logits)\n",
    "\n"
   ]
  },
  {
   "cell_type": "code",
   "execution_count": 49,
   "metadata": {},
   "outputs": [
    {
     "name": "stdout",
     "output_type": "stream",
     "text": [
      "tensor([ 1.2111,  1.4387,  1.2645,  1.2299,  1.5661,  1.2885,  1.3092,  1.4331,\n",
      "         1.3294,  1.4665, -1.2325, -1.0683, -1.3352, -1.2045, -1.3057, -1.4026,\n",
      "        -1.1853, -1.3557, -1.1751, -1.5006], dtype=torch.float64)\n",
      "The accuracy of our model is 1.0\n"
     ]
    }
   ],
   "source": [
    "\n",
    "x_train_ = torch.tensor(x_train)\n",
    "x_test_ = torch.tensor(x_test)\n",
    "y_train_ = torch.tensor(y_train)\n",
    "y_test_ = torch.tensor(y_test)\n",
    "\n",
    "clf = svm(1)\n",
    "clf.epsilon = 1e-5\n",
    "clf.fit(x_train_, y_train_, epochs = 50000, batch_size = 4, learning_rate = 0.00005)\n",
    "print(x_test_ @ clf.w + clf.b)\n",
    "y_pred = clf.predict(x_test_)\n",
    "print(\"The accuracy of our model is {}\".format(accuracy(y_pred, y_test_)))"
   ]
  },
  {
   "cell_type": "code",
   "execution_count": 42,
   "metadata": {},
   "outputs": [
    {
     "data": {
      "text/plain": [
       "tensor(104.3989, dtype=torch.float64)"
      ]
     },
     "execution_count": 42,
     "metadata": {},
     "output_type": "execute_result"
    }
   ],
   "source": [
    "torch.sqrt(4/(clf.w@clf.w))"
   ]
  },
  {
   "cell_type": "code",
   "execution_count": null,
   "metadata": {},
   "outputs": [],
   "source": []
  }
 ],
 "metadata": {
  "interpreter": {
   "hash": "916dbcbb3f70747c44a77c7bcd40155683ae19c65e1c03b4aa3499c5328201f1"
  },
  "kernelspec": {
   "display_name": "Python 3.10.4 64-bit",
   "language": "python",
   "name": "python3"
  },
  "language_info": {
   "codemirror_mode": {
    "name": "ipython",
    "version": 3
   },
   "file_extension": ".py",
   "mimetype": "text/x-python",
   "name": "python",
   "nbconvert_exporter": "python",
   "pygments_lexer": "ipython3",
   "version": "3.10.4"
  },
  "orig_nbformat": 4
 },
 "nbformat": 4,
 "nbformat_minor": 2
}
