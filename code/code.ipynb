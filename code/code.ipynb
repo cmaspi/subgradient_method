{
 "cells": [
  {
   "cell_type": "code",
   "execution_count": 140,
   "metadata": {},
   "outputs": [],
   "source": [
    "import numpy as np\n",
    "import matplotlib.pyplot as plt\n",
    "plt.style.use('dark_background')\n",
    "\n",
    "# importing the data\n",
    "from data import *\n",
    "X = X.T\n",
    "Y = Y.T\n",
    "x_train = np.array([*X[:40],*Y[:40]])\n",
    "x_test = np.array([*X[40:],*Y[40:]])\n",
    "y_train = np.ones(80)\n",
    "y_train[40:] = -np.ones(40)\n",
    "y_test = np.ones(20)\n",
    "y_test[10:] = -np.ones(10)\n"
   ]
  },
  {
   "cell_type": "markdown",
   "metadata": {},
   "source": [
    "SVM"
   ]
  },
  {
   "cell_type": "code",
   "execution_count": 141,
   "metadata": {},
   "outputs": [
    {
     "data": {
      "text/plain": [
       "1.0"
      ]
     },
     "execution_count": 141,
     "metadata": {},
     "output_type": "execute_result"
    }
   ],
   "source": [
    "from sklearn import svm\n",
    "\n",
    "accuracy = lambda predicted, label: np.mean(predicted==label)\n",
    "\n",
    "clf = svm.SVC(kernel='linear')\n",
    "clf.fit(x_train, y_train)\n",
    "y_pred = clf.predict(x_test)\n",
    "accuracy(y_pred, y_test)"
   ]
  },
  {
   "cell_type": "code",
   "execution_count": 142,
   "metadata": {},
   "outputs": [
    {
     "name": "stdout",
     "output_type": "stream",
     "text": [
      "Slab thickness 117.73902605644058\n"
     ]
    }
   ],
   "source": [
    "print(f\"Slab thickness {2/np.linalg.norm(clf.coef_)}\")"
   ]
  },
  {
   "cell_type": "markdown",
   "metadata": {},
   "source": [
    "Now, our own svm trained using subgradient method"
   ]
  },
  {
   "cell_type": "code",
   "execution_count": 147,
   "metadata": {},
   "outputs": [],
   "source": [
    "from svm_tensor import svm\n",
    "import torch"
   ]
  },
  {
   "cell_type": "code",
   "execution_count": 148,
   "metadata": {},
   "outputs": [
    {
     "name": "stdout",
     "output_type": "stream",
     "text": [
      "The accuracy of our model is 1.0\n"
     ]
    }
   ],
   "source": [
    "\n",
    "x_train_ = torch.tensor(x_train)\n",
    "x_test_ = torch.tensor(x_test)\n",
    "y_train_ = torch.tensor(y_train)\n",
    "y_test_ = torch.tensor(y_test)\n",
    "\n",
    "clf = svm(0.01)\n",
    "clf.fit(x_train_, y_train_, epochs = 500, batch_size = 4, learning_rate = 0.01)\n",
    "y_pred = clf.predict(x_test_)\n",
    "print(\"The accuracy of our model is {}\".format(clf.accuracy(x_test_, y_test_)))"
   ]
  },
  {
   "cell_type": "code",
   "execution_count": 149,
   "metadata": {},
   "outputs": [
    {
     "data": {
      "text/plain": [
       "tensor(116.2767, dtype=torch.float64)"
      ]
     },
     "execution_count": 149,
     "metadata": {},
     "output_type": "execute_result"
    }
   ],
   "source": [
    "torch.sqrt(4/(clf.w@clf.w))"
   ]
  }
 ],
 "metadata": {
  "interpreter": {
   "hash": "916dbcbb3f70747c44a77c7bcd40155683ae19c65e1c03b4aa3499c5328201f1"
  },
  "kernelspec": {
   "display_name": "Python 3.10.4 64-bit",
   "language": "python",
   "name": "python3"
  },
  "language_info": {
   "codemirror_mode": {
    "name": "ipython",
    "version": 3
   },
   "file_extension": ".py",
   "mimetype": "text/x-python",
   "name": "python",
   "nbconvert_exporter": "python",
   "pygments_lexer": "ipython3",
   "version": "3.10.4"
  },
  "orig_nbformat": 4
 },
 "nbformat": 4,
 "nbformat_minor": 2
}
