{
 "cells": [
  {
   "cell_type": "code",
   "execution_count": 54,
   "metadata": {},
   "outputs": [],
   "source": [
    "import numpy as np\n",
    "import matplotlib.pyplot as plt\n",
    "import matplotlib.animation as animation\n",
    "from IPython.display import clear_output\n",
    "plt.style.use('dark_background')"
   ]
  },
  {
   "cell_type": "code",
   "execution_count": 55,
   "metadata": {},
   "outputs": [],
   "source": [
    "# Creating some data\n",
    "x_train = np.array([ *np.random.multivariate_normal((1,0), 1e-2*np.eye(2), 80),  *np.random.multivariate_normal((0,1), 1e-2*np.eye(2), 80)])\n",
    "y_train = np.array([*-np.ones(80), *np.ones(80)])\n",
    "x_test = np.array([ *np.random.multivariate_normal((1,0), 1e-2*np.eye(2), 20),  *np.random.multivariate_normal((0,1), 1e-2*np.eye(2), 20)])\n",
    "y_test = np.array([*-np.ones(20), *np.ones(20)])"
   ]
  },
  {
   "cell_type": "code",
   "execution_count": 56,
   "metadata": {},
   "outputs": [
    {
     "data": {
      "image/png": "[encoded data removed]",
      "text/plain": [
       "<Figure size 432x288 with 1 Axes>"
      ]
     },
     "metadata": {},
     "output_type": "display_data"
    }
   ],
   "source": [
    "fig, ax = plt.subplots()\n",
    "ax.scatter( x_train[ y_train == 1, 0], x_train[y_train == 1, 1], label = 1)\n",
    "ax.scatter( x_train[ y_train == -1, 0], x_train[y_train == -1, 1], label = -1)\n",
    "\n",
    "ax.scatter( x_test[ y_test == 1, 0], x_test[y_test == 1, 1], label = \"1, testing\")\n",
    "ax.scatter( x_test[ y_test == -1, 0], x_test[y_test == -1, 1], label = \"-1, testing\")\n",
    "\n",
    "ax.legend()\n",
    "plt.show()"
   ]
  },
  {
   "cell_type": "code",
   "execution_count": 57,
   "metadata": {},
   "outputs": [],
   "source": [
    "accuracy = lambda predicted, label: np.mean((predicted==label))\n",
    "\n",
    "find_y = lambda x,w,b : (-b-w[0]*x)/w[1]\n",
    "\n",
    "class svm:\n",
    "    @classmethod\n",
    "    def __init__(self, trade_off: int = 10):\n",
    "        self.w = None\n",
    "        self.b = None\n",
    "        self.trade_off = trade_off\n",
    "        self.learning_rate = None\n",
    "        self.best_w = None\n",
    "        self.best_b = None\n",
    "        self.opt_cost = 1e9\n",
    "        \n",
    "\n",
    "    @staticmethod\n",
    "    def shuffle(train: np.ndarray, labels: np.ndarray):\n",
    "        \"\"\"\n",
    "        Shuffles the data in a random permutation\n",
    "        \"\"\"\n",
    "        n = train.shape[0]\n",
    "        permutation = np.random.permutation(n)\n",
    "        train = train[permutation]\n",
    "        labels = labels[permutation]\n",
    "        return train, labels\n",
    "    \n",
    "    @classmethod\n",
    "    def iterate_minibatches(self, train : np.ndarray, labels: np.ndarray, batch_size : int):\n",
    "        \"\"\"\n",
    "        Gives minibatches\n",
    "        \"\"\"\n",
    "        train, labels = self.shuffle(train,labels)\n",
    "        for start_idx in range(0, train.shape[0] + 1 - batch_size, batch_size):\n",
    "            excerpt = slice(start_idx, start_idx+batch_size)\n",
    "            yield train[excerpt], labels[excerpt]\n",
    "\n",
    "    @classmethod\n",
    "    def cost(self, train, labels):\n",
    "        return self.w @ self.w + np.maximum( 0 , 1 - labels @ (train @ self.w + self.b))\n",
    "\n",
    "    \n",
    "    @classmethod\n",
    "    def fit_util(self, train: np.ndarray, labels: np.ndarray):\n",
    "        \"\"\"\n",
    "        Utility function for fit\n",
    "        \"\"\"\n",
    "        indices = (labels * (train @ self.w + self.b )) < 1.\n",
    "        grad_b = -np.sum(labels[indices])\n",
    "        grad_w = 2 * self.w  - self.trade_off * (labels[indices] @ train[indices])\n",
    "        self.b -=  self.learning_rate * grad_b\n",
    "        self.w -= self.learning_rate * grad_w / self.trade_off\n",
    "        if self.opt_cost > self.cost(train, labels):\n",
    "            self.best_b = self.b\n",
    "            self.best_w = self.w\n",
    "            self.opt_cost = self.cost(train, labels)\n",
    "\n",
    "\n",
    "\n",
    "\n",
    "    @classmethod\n",
    "    def animate():\n",
    "        pass\n",
    "\n",
    "    @classmethod\n",
    "    def fit(self, train, labels, learning_rate : int = 0.1 ,epochs : int = 10, batch_size = 10):\n",
    "        \"\"\"\n",
    "        Trains the weights\n",
    "        \"\"\"\n",
    "        self.learning_rate = learning_rate\n",
    "        s = train.shape[1]\n",
    "        self.w = np.random.normal(np.zeros(s, dtype = float))\n",
    "        self.b = 0\n",
    "        \n",
    "    \n",
    "        \n",
    "            \n",
    "        for epoch in range(epochs):\n",
    "            train, labels = self.shuffle(train, labels)\n",
    "            for x,y in self.iterate_minibatches(train, labels, batch_size):\n",
    "                self.fit_util(x, y)\n",
    "            fig, ax = plt.subplots()\n",
    "            ax.set_xlim(-0.5,1.5)\n",
    "            ax.set_ylim(-0.5,1.5)\n",
    "            ax.scatter( x_train[ y_train == 1, 0], x_train[y_train == 1, 1], label = 1)\n",
    "            ax.scatter( x_train[ y_train == -1, 0], x_train[y_train == -1, 1], label = -1)\n",
    "\n",
    "            x_coords = np.array([-0.6, 1.6])\n",
    "            dist = 1/clf.w[1]\n",
    "            ax.plot( x_coords, find_y(x_coords, clf.w, clf.b), label = \"separating_line\" )\n",
    "\n",
    "            ax.fill_between(x_coords, find_y(x_coords, clf.w, clf.b) - dist, find_y(x_coords, clf.w, clf.b)+dist, label = \"slab\", edgecolor = None, alpha=0.4, color='white')\n",
    "\n",
    "            ax.legend(loc='upper right')\n",
    "            plt.savefig(f'fig/{epoch}.png')\n",
    "            plt.close()\n",
    "            clear_output()\n",
    "\n",
    "        self.w = self.best_w\n",
    "        self.b = self.best_b\n",
    "                \n",
    "\n",
    "    @classmethod\n",
    "    def predict(self, test):\n",
    "        \"\"\"\n",
    "        returns the predicted label\n",
    "        \"\"\"\n",
    "        logits = test @ self.w + self.b\n",
    "        return np.sign(logits)\n",
    "\n"
   ]
  },
  {
   "cell_type": "code",
   "execution_count": 60,
   "metadata": {},
   "outputs": [
    {
     "name": "stdout",
     "output_type": "stream",
     "text": [
      "The accuracy of our model is 1.0\n"
     ]
    }
   ],
   "source": [
    "clf = svm(100)\n",
    "clf.fit(x_train, y_train, epochs = 1000, batch_size = 4, learning_rate = 0.01)\n",
    "y_pred = clf.predict(x_test)\n",
    "print(\"The accuracy of our model is {}\".format(accuracy(y_pred, y_test)))"
   ]
  },
  {
   "cell_type": "code",
   "execution_count": 61,
   "metadata": {},
   "outputs": [],
   "source": [
    "import imageio\n",
    "with imageio.get_writer('mygif.gif', mode='I',) as writer:\n",
    "    for filename in range(1000):\n",
    "        image = imageio.imread(f'fig/{filename}.png')\n",
    "        writer.append_data(image)"
   ]
  },
  {
   "cell_type": "code",
   "execution_count": null,
   "metadata": {},
   "outputs": [],
   "source": []
  }
 ],
 "metadata": {
  "interpreter": {
   "hash": "916dbcbb3f70747c44a77c7bcd40155683ae19c65e1c03b4aa3499c5328201f1"
  },
  "kernelspec": {
   "display_name": "Python 3.10.4 64-bit",
   "language": "python",
   "name": "python3"
  },
  "language_info": {
   "codemirror_mode": {
    "name": "ipython",
    "version": 3
   },
   "file_extension": ".py",
   "mimetype": "text/x-python",
   "name": "python",
   "nbconvert_exporter": "python",
   "pygments_lexer": "ipython3",
   "version": "3.10.4"
  },
  "orig_nbformat": 4
 },
 "nbformat": 4,
 "nbformat_minor": 2
}
